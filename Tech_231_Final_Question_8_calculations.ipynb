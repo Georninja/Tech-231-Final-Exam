{
  "nbformat": 4,
  "nbformat_minor": 0,
  "metadata": {
    "colab": {
      "provenance": [],
      "authorship_tag": "ABX9TyPyofzs8o+h4iFQzg2vgZhY",
      "include_colab_link": true
    },
    "kernelspec": {
      "name": "python3",
      "display_name": "Python 3"
    },
    "language_info": {
      "name": "python"
    }
  },
  "cells": [
    {
      "cell_type": "markdown",
      "metadata": {
        "id": "view-in-github",
        "colab_type": "text"
      },
      "source": [
        "<a href=\"https://colab.research.google.com/github/Georninja/Tech-231-Final-Exam/blob/main/Tech_231_Final_Question_8_calculations.ipynb\" target=\"_parent\"><img src=\"https://colab.research.google.com/assets/colab-badge.svg\" alt=\"Open In Colab\"/></a>"
      ]
    },
    {
      "cell_type": "code",
      "execution_count": 13,
      "metadata": {
        "colab": {
          "base_uri": "https://localhost:8080/"
        },
        "id": "mOGvC01G7RL1",
        "outputId": "d4a3206f-cfe3-469a-ab50-11b7a1879c05"
      },
      "outputs": [
        {
          "output_type": "stream",
          "name": "stdout",
          "text": [
            "Reliability of the system over 24 hours:  0.9703362654197247 , Overall steady state availability:  0.9975061459827183\n"
          ]
        }
      ],
      "source": [
        "# Instead of typing all of this out in the Word Document, I might as well just format this in Python.\n",
        "\n",
        "from math import exp\n",
        "\n",
        "# Given data\n",
        "MTBF_radar = 1500  # MTBF of each radar in hours\n",
        "MTBF_launch_guidance = 800  # MTBF of launch guidance in hours\n",
        "reliability_missile = 0.9  # Reliability of each missile\n",
        "MTTR = 2  # Mean Time To Repair in hours\n",
        "reliability_switch = 0.95  # Reliability of the switch\n",
        "time = 24  # Time period for reliability calculation in hours\n",
        "\n",
        "# Calculating reliability for each radar and switch at 24 hours\n",
        "reliability_radar_24h = exp(-time / MTBF_radar)\n",
        "reliability_switch_24h = reliability_switch  # Constant reliability\n",
        "\n",
        "# Overall reliability for the radar and switch system (parallel)\n",
        "overall_reliability_radars_switch = 1 - (1 - reliability_radar_24h)**2 * (1 - reliability_switch_24h)\n",
        "\n",
        "# Reliability for launch guidance at 24 hours\n",
        "reliability_launch_guidance_24h = exp(-time / MTBF_launch_guidance)\n",
        "\n",
        "# Reliability for the radar, switch, and launch guidance system (series)\n",
        "reliability_radar_launch_24h = overall_reliability_radars_switch * reliability_launch_guidance_24h\n",
        "\n",
        "# Reliability for four missiles in parallel\n",
        "reliability_missiles = 1 - (1 - reliability_missile)**4\n",
        "\n",
        "# Overall system reliability over 24 hours\n",
        "overall_system_reliability_24h = reliability_radar_launch_24h * reliability_missiles\n",
        "\n",
        "# Steady-state availability calculations\n",
        "availability_radar = MTBF_radar / (MTBF_radar + MTTR)\n",
        "availability_launch_guidance = MTBF_launch_guidance / (MTBF_launch_guidance + MTTR)\n",
        "\n",
        "# Overall availability for the radar and switch system (parallel)\n",
        "overall_availability_radars_switch = 1 - (1 - availability_radar)**2 * (1 - reliability_switch)\n",
        "\n",
        "# Overall steady-state availability for the system (excluding missiles)\n",
        "overall_steady_state_availability = overall_availability_radars_switch * availability_launch_guidance\n",
        "\n",
        "print(\"Reliability of the system over 24 hours: \" , overall_system_reliability_24h , \", Overall steady state availability: \" , overall_steady_state_availability)\n"
      ]
    },
    {
      "cell_type": "code",
      "source": [
        "print(\"A)\tCalculate the overall radar reliability.\")\n",
        "# Overall reliability for the radar system (three radars in parallel)\n",
        "# Considering the standby radar has the same MTBF as the primary and secondary radars\n",
        "overall_reliability_radars = 1 - (1 - reliability_radar_24h)**3\n",
        "\n",
        "print(overall_reliability_radars)\n"
      ],
      "metadata": {
        "colab": {
          "base_uri": "https://localhost:8080/"
        },
        "id": "-dZiILTNDxuE",
        "outputId": "184687ff-73f8-42f4-b8e8-1eac0d18e17e"
      },
      "execution_count": 14,
      "outputs": [
        {
          "output_type": "stream",
          "name": "stdout",
          "text": [
            "A)\tCalculate the overall radar reliability.\n",
            "0.9999960010057674\n"
          ]
        }
      ]
    },
    {
      "cell_type": "code",
      "source": [
        "print(\"B)\tCalculate the total system reliability.\")\n",
        "# Overall system reliability over 24 hours, combining radar, launch guidance, and missiles\n",
        "overall_system_reliability = overall_reliability_radars * reliability_launch_guidance_24h * reliability_missiles\n",
        "\n",
        "print(overall_system_reliability)"
      ],
      "metadata": {
        "colab": {
          "base_uri": "https://localhost:8080/"
        },
        "id": "jLXmuSKDD8nf",
        "outputId": "03249b55-3b34-48f8-d87b-93d929f0dc07"
      },
      "execution_count": 15,
      "outputs": [
        {
          "output_type": "stream",
          "name": "stdout",
          "text": [
            "B)\tCalculate the total system reliability.\n",
            "0.9703446085771422\n"
          ]
        }
      ]
    },
    {
      "cell_type": "code",
      "source": [
        "print(\"C)\tCalculate the availability of the redundant radar configuration.\")\n",
        "# Overall availability for the redundant radar configuration (three radars in parallel)\n",
        "overall_availability_radars = 1 - (1 - availability_radar)**3\n",
        "\n",
        "print(overall_availability_radars)"
      ],
      "metadata": {
        "colab": {
          "base_uri": "https://localhost:8080/"
        },
        "id": "Nd6c_xygFiiz",
        "outputId": "12681ccf-f489-4a9e-8e78-7e3eedd39437"
      },
      "execution_count": 16,
      "outputs": [
        {
          "output_type": "stream",
          "name": "stdout",
          "text": [
            "C)\tCalculate the availability of the redundant radar configuration.\n",
            "0.9999999976390859\n"
          ]
        }
      ]
    }
  ]
}